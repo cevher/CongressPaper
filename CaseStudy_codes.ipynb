{
 "cells": [
  {
   "cell_type": "code",
   "execution_count": 81,
   "id": "c8231b31-7dba-4572-9aba-91ecce6e775d",
   "metadata": {},
   "outputs": [],
   "source": [
    "import torch\n",
    "import torch.nn.functional as F\n",
    "from torch_geometric.nn import GCNConv\n",
    "from torch_geometric.data import Data\n",
    "from sklearn.metrics import mean_squared_error, r2_score\n",
    "import pandas as pd\n",
    "import numpy as np\n",
    "from sklearn.preprocessing import MinMaxScaler\n",
    "from sklearn.model_selection import train_test_split\n",
    "from sklearn.linear_model import LinearRegression\n",
    "from sklearn.metrics import mean_squared_error\n",
    "# Veri setini yükleme\n",
    "file_path = \"./Kitap1.xlsx\"\n",
    "data = pd.read_excel(file_path)\n",
    "\n",
    "from sklearn.preprocessing import StandardScaler\n",
    "from sklearn.model_selection import train_test_split\n",
    "\n",
    "# Veri setini yükleme\n",
    "file_path = \"./Kitap1.xlsx\"\n",
    "data = pd.read_excel(file_path)\n",
    "\n",
    "X = data.drop(columns=['Fiyat'])\n",
    "y = data['Fiyat']\n",
    "X_filled = X.fillna(X.mean())\n",
    "\n",
    "X_train_filled, X_test_filled, y_train_filled, y_test_filled = train_test_split(X_filled, y, test_size=0.2, random_state=42)\n",
    "scaler = StandardScaler()\n",
    "X_train_scaled_filled = scaler.fit_transform(X_train_filled)\n",
    "X_test_scaled_filled = scaler.transform(X_test_filled)"
   ]
  },
  {
   "cell_type": "code",
   "execution_count": 85,
   "id": "ae7f74fa-c12a-4c2d-ab40-2e11a8de1b49",
   "metadata": {},
   "outputs": [
    {
     "data": {
      "text/plain": [
       "(1431,)"
      ]
     },
     "execution_count": 85,
     "metadata": {},
     "output_type": "execute_result"
    }
   ],
   "source": [
    "y_train_filled.shape"
   ]
  },
  {
   "cell_type": "code",
   "execution_count": 89,
   "id": "cd67e7fa-c871-46c5-9445-47241a2eb477",
   "metadata": {},
   "outputs": [
    {
     "name": "stdout",
     "output_type": "stream",
     "text": [
      "Epoch 0, Loss: 0.9843590259552002\n",
      "Epoch 10, Loss: 0.659024715423584\n",
      "Test MSE: 0.5214120149612427\n"
     ]
    }
   ],
   "source": [
    "# Verileri tensorlere dönüştür\n",
    "X_train_tensor = torch.tensor(X_train_scaled_filled, dtype=torch.float)\n",
    "y_train_tensor = torch.tensor(y_train_filled, dtype=torch.float).view(-1, 1)\n",
    "X_test_tensor = torch.tensor(X_test_scaled_filled, dtype=torch.float)\n",
    "y_test_tensor = torch.tensor(y_test_filled.to_numpy(), dtype=torch.float).view(-1, 1)\n",
    "\n",
    "# Lineer regresyon modeli\n",
    "class LinearRegressionModel(nn.Module):\n",
    "    def __init__(self, input_size):\n",
    "        super(LinearRegressionModel, self).__init__()\n",
    "        self.linear = nn.Linear(input_size, 1)\n",
    "\n",
    "    def forward(self, x):\n",
    "        return self.linear(x)\n",
    "\n",
    "# Model ve optimizer\n",
    "model = LinearRegressionModel(X_train.shape[1])\n",
    "criterion = nn.MSELoss()\n",
    "optimizer = optim.SGD(model.parameters(), lr=0.01)\n",
    "\n",
    "# Eğitim döngüsü\n",
    "model.train()\n",
    "for epoch in range(20):\n",
    "    optimizer.zero_grad()\n",
    "    outputs = model(X_train_tensor)\n",
    "    loss = criterion(outputs, y_train_tensor)\n",
    "    loss.backward()\n",
    "    optimizer.step()\n",
    "    if epoch % 10 == 0:\n",
    "        print(f'Epoch {epoch}, Loss: {loss.item()}')\n",
    "\n",
    "# Model değerlendirme\n",
    "model.eval()\n",
    "with torch.no_grad():\n",
    "    predicted = model(X_test_tensor)\n",
    "    test_mse = criterion(predicted, y_test_tensor)\n",
    "    print(f'Test MSE: {test_mse.item()}')"
   ]
  },
  {
   "cell_type": "markdown",
   "id": "8e527e93-9386-430e-a774-fc10da109193",
   "metadata": {},
   "source": [
    "### GNN Model"
   ]
  },
  {
   "cell_type": "code",
   "execution_count": 76,
   "id": "0347771c-c055-4453-84f6-9a9f35a62f9c",
   "metadata": {},
   "outputs": [],
   "source": [
    "# Veriyi [0, 1] aralığında ölçeklendir\n",
    "scaler = MinMaxScaler()\n",
    "X_scaled = scaler.fit_transform(X_filled.to_numpy())\n",
    "\n",
    "# Eğitim ve test setlerine ayır\n",
    "X_train, X_test, y_train, y_test = train_test_split(X_scaled, y.to_numpy(), test_size=0.2, random_state=42)\n",
    "\n",
    "# Eğitim ve test grafiklerini oluştur\n",
    "train_edge_index = torch.combinations(torch.arange(X_train.shape[0]), r=2).t().contiguous()\n",
    "train_graph = Data(x=torch.tensor(X_train, dtype=torch.float), edge_index=train_edge_index, y=torch.tensor(y_train, dtype=torch.float))\n",
    "test_edge_index = torch.combinations(torch.arange(X_test.shape[0]), r=2).t().contiguous()\n",
    "test_graph = Data(x=torch.tensor(X_test, dtype=torch.float), edge_index=test_edge_index, y=torch.tensor(y_test, dtype=torch.float))\n"
   ]
  },
  {
   "cell_type": "code",
   "execution_count": 77,
   "id": "cdb312fd-414f-4005-91a6-172c84a5c9f6",
   "metadata": {},
   "outputs": [
    {
     "name": "stdout",
     "output_type": "stream",
     "text": [
      "Epoch 0, Loss: 0.47541531920433044\n",
      "Epoch 10, Loss: 0.17180182039737701\n",
      "Epoch 20, Loss: 0.17037759721279144\n",
      "Epoch 30, Loss: 0.17014369368553162\n",
      "Epoch 40, Loss: 0.1701340228319168\n",
      "Epoch 50, Loss: 0.17011970281600952\n",
      "Epoch 60, Loss: 0.1699453592300415\n",
      "Epoch 70, Loss: 0.1696765124797821\n",
      "Epoch 80, Loss: 0.16946321725845337\n",
      "Epoch 90, Loss: 0.16932232677936554\n",
      "Epoch 100, Loss: 0.16918312013149261\n",
      "Epoch 110, Loss: 0.16904129087924957\n",
      "Epoch 120, Loss: 0.1689068228006363\n",
      "Epoch 130, Loss: 0.16877523064613342\n",
      "Epoch 140, Loss: 0.16864821314811707\n",
      "Epoch 150, Loss: 0.16852585971355438\n",
      "Epoch 160, Loss: 0.16840860247612\n",
      "Epoch 170, Loss: 0.1682966947555542\n",
      "Epoch 180, Loss: 0.16818967461585999\n",
      "Epoch 190, Loss: 0.1680881232023239\n",
      "Test MSE: 0.23478026688098907\n"
     ]
    }
   ],
   "source": [
    "from torch_geometric.nn import GCNConv, global_mean_pool\n",
    "\n",
    "class GNN(torch.nn.Module):\n",
    "    def __init__(self):\n",
    "        super(GNN, self).__init__()\n",
    "        self.conv1 = GCNConv(train_graph.num_node_features, 16)\n",
    "        self.conv2 = GCNConv(16, 1)\n",
    "\n",
    "    def forward(self, data):\n",
    "        x, edge_index = data.x, data.edge_index\n",
    "        x = self.conv1(x, edge_index).relu()\n",
    "        x = self.conv2(x, edge_index)\n",
    "        return x.squeeze()\n",
    "\n",
    "# Model ve optimizer\n",
    "model = GNN()\n",
    "optimizer = torch.optim.Adam(model.parameters(), lr=0.01)\n",
    "\n",
    "# Eğitim döngüsü\n",
    "model.train()\n",
    "for epoch in range(200):\n",
    "    optimizer.zero_grad()\n",
    "    out = model(train_graph)\n",
    "    loss = torch.nn.functional.mse_loss(out, train_graph.y)\n",
    "    loss.backward()\n",
    "    optimizer.step()\n",
    "    if epoch % 10 == 0:\n",
    "        print(f'Epoch {epoch}, Loss: {loss.item()}')\n",
    "\n",
    "# Model değerlendirme\n",
    "model.eval()\n",
    "with torch.no_grad():\n",
    "    pred = model(test_graph)\n",
    "    test_mse = torch.nn.functional.mse_loss(pred, test_graph.y)\n",
    "    print(f'Test MSE: {test_mse.item()}')\n"
   ]
  },
  {
   "cell_type": "code",
   "execution_count": 78,
   "id": "13149fd1-0dd1-430a-bdc8-4f11bbc933c4",
   "metadata": {},
   "outputs": [
    {
     "name": "stdout",
     "output_type": "stream",
     "text": [
      "Epoch 0, Loss: 0.16799215972423553\n",
      "Epoch 10, Loss: 0.16786210238933563\n",
      "Epoch 20, Loss: 0.16770723462104797\n",
      "Epoch 30, Loss: 0.16745679080486298\n",
      "Epoch 40, Loss: 0.16734327375888824\n",
      "Epoch 50, Loss: 0.16724544763565063\n",
      "Epoch 60, Loss: 0.16717678308486938\n",
      "Epoch 70, Loss: 0.16711856424808502\n",
      "Epoch 80, Loss: 0.16707788407802582\n",
      "Epoch 90, Loss: 0.16704633831977844\n",
      "Epoch 100, Loss: 0.16702060401439667\n",
      "Epoch 110, Loss: 0.16699731349945068\n",
      "Epoch 120, Loss: 0.16697651147842407\n",
      "Epoch 130, Loss: 0.16695629060268402\n",
      "Epoch 140, Loss: 0.16693583130836487\n",
      "Epoch 150, Loss: 0.1669151782989502\n",
      "Epoch 160, Loss: 0.16689427196979523\n",
      "Epoch 170, Loss: 0.16687306761741638\n",
      "Epoch 180, Loss: 0.16685156524181366\n",
      "Epoch 190, Loss: 0.16682961583137512\n",
      "Test MSE: 0.23216639459133148\n"
     ]
    }
   ],
   "source": [
    "class SimplifiedGNN(torch.nn.Module):\n",
    "    def __init__(self):\n",
    "        super(SimplifiedGNN, self).__init__()\n",
    "        self.conv1 = GCNConv(train_graph.num_node_features, 8)  # Katman boyutunu düşürdük\n",
    "        self.conv2 = GCNConv(8, 1)  # Son katmanı koruyoruz\n",
    "\n",
    "    def forward(self, data):\n",
    "        x, edge_index = data.x, data.edge_index\n",
    "        x = self.conv1(x, edge_index).relu()\n",
    "        x = self.conv2(x, edge_index)\n",
    "        return x.squeeze()\n",
    "\n",
    "# Daha düşük bir öğrenme oranı kullanarak modeli yeniden eğitelim\n",
    "optimizer = torch.optim.Adam(model.parameters(), lr=0.005)  # Öğrenme oranını düşürdük\n",
    "\n",
    "# Eğitim döngüsü ve test MSE hesaplama kodu aynı kalabilir\n",
    "model.train()\n",
    "for epoch in range(200):\n",
    "    optimizer.zero_grad()\n",
    "    out = model(train_graph)\n",
    "    loss = torch.nn.functional.mse_loss(out, train_graph.y)\n",
    "    loss.backward()\n",
    "    optimizer.step()\n",
    "    if epoch % 10 == 0:\n",
    "        print(f'Epoch {epoch}, Loss: {loss.item()}')\n",
    "\n",
    "# Model değerlendirme\n",
    "model.eval()\n",
    "with torch.no_grad():\n",
    "    pred = model(test_graph)\n",
    "    test_mse = torch.nn.functional.mse_loss(pred, test_graph.y)\n",
    "    print(f'Test MSE: {test_mse.item()}')"
   ]
  },
  {
   "cell_type": "code",
   "execution_count": null,
   "id": "f95fabae-52e0-4df2-a885-d3a4746c6973",
   "metadata": {},
   "outputs": [],
   "source": []
  }
 ],
 "metadata": {
  "kernelspec": {
   "display_name": "Python 3 (ipykernel)",
   "language": "python",
   "name": "python3"
  },
  "language_info": {
   "codemirror_mode": {
    "name": "ipython",
    "version": 3
   },
   "file_extension": ".py",
   "mimetype": "text/x-python",
   "name": "python",
   "nbconvert_exporter": "python",
   "pygments_lexer": "ipython3",
   "version": "3.8.10"
  }
 },
 "nbformat": 4,
 "nbformat_minor": 5
}
